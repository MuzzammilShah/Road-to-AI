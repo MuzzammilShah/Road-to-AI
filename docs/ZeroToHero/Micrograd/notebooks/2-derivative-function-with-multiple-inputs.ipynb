{
 "cells": [
  {
   "cell_type": "code",
   "execution_count": 1,
   "metadata": {},
   "outputs": [],
   "source": [
    "# Now we get slighly more complex from the previous one\n",
    "\n",
    "# We are adding 3 scalar inputs\n",
    "a = 2.0\n",
    "b = -3.0\n",
    "c = 10.0\n",
    "\n",
    "#Single ouput\n",
    "d = a*b + c"
   ]
  },
  {
   "cell_type": "code",
   "execution_count": 2,
   "metadata": {},
   "outputs": [
    {
     "name": "stdout",
     "output_type": "stream",
     "text": [
      "4.0\n"
     ]
    }
   ],
   "source": [
    "print(d)"
   ]
  },
  {
   "cell_type": "markdown",
   "metadata": {},
   "source": [
    "Now we are gonna look at the derivitive of d wrt to a,b & c"
   ]
  },
  {
   "cell_type": "code",
   "execution_count": 3,
   "metadata": {},
   "outputs": [],
   "source": [
    "# We'll set the value of h\n",
    "h = 0.0001"
   ]
  },
  {
   "cell_type": "code",
   "execution_count": 11,
   "metadata": {},
   "outputs": [],
   "source": [
    "#inputs\n",
    "a = 2.0\n",
    "b = -3.0\n",
    "c = 10.0\n",
    "\n",
    "d1 = a*b + c"
   ]
  },
  {
   "cell_type": "markdown",
   "metadata": {},
   "source": [
    "(i) wrt a"
   ]
  },
  {
   "cell_type": "code",
   "execution_count": 6,
   "metadata": {},
   "outputs": [],
   "source": [
    "a += h\n",
    "\n",
    "d2 = a*b + c"
   ]
  },
  {
   "cell_type": "code",
   "execution_count": 7,
   "metadata": {},
   "outputs": [
    {
     "name": "stdout",
     "output_type": "stream",
     "text": [
      "d1 4.0\n",
      "d2 3.999699999999999\n",
      "Slope:  -3.000000000010772\n"
     ]
    }
   ],
   "source": [
    "print('d1', d1)\n",
    "print('d2', d2)\n",
    "\n",
    "# Here (d2 - d1) is the amount of bump that was actually increased, after we had bump the value of the specific value that we are interested in by a tiny amount\n",
    "# And that is normalised by dividing that value by h, to get the slope\n",
    "print('Slope: ', (d2 - d1)/h)"
   ]
  },
  {
   "cell_type": "markdown",
   "metadata": {},
   "source": [
    "Now here with the ouput d2, it becomes slightly less than 4 after we had added a small value to a\n",
    "\\\n",
    "\\\n",
    "As the negative value formed after the product is bigger\n",
    "\\\n",
    "\\\n",
    "Now, since we know the overall value had reduced, the sign of the slope should also naturally be negative (as seen)"
   ]
  },
  {
   "cell_type": "markdown",
   "metadata": {},
   "source": [
    "Even Mathematically, if we take the derivative of the expression d2 wrt a \\\n",
    "then only b is left \\\n",
    "which is a negative value, hence the negative sign"
   ]
  },
  {
   "cell_type": "markdown",
   "metadata": {},
   "source": [
    "(ii) wrt b"
   ]
  },
  {
   "cell_type": "code",
   "execution_count": 10,
   "metadata": {},
   "outputs": [
    {
     "name": "stdout",
     "output_type": "stream",
     "text": [
      "d1 4.0\n",
      "d2 4.0002\n",
      "Slope:  2.0000000000042206\n"
     ]
    }
   ],
   "source": [
    "b += h\n",
    "\n",
    "d2 = a*b + c\n",
    "\n",
    "print('d1', d1)\n",
    "print('d2', d2)\n",
    "\n",
    "print('Slope: ', (d2 - d1)/h)"
   ]
  },
  {
   "cell_type": "markdown",
   "metadata": {},
   "source": [
    "Similar explaination here\n",
    "\\\n",
    "\\\n",
    "the value of b becomes slightly less after adding the small increament\n",
    "\\\n",
    "Therefore increasing the value of the final expression d2\n",
    "\\\n",
    "\\\n",
    "Here, since its the derivative of d2 wrt b\n",
    "\\\n",
    "only a remains, therefore a positive slope value"
   ]
  },
  {
   "cell_type": "markdown",
   "metadata": {},
   "source": [
    "(iii) wrt c"
   ]
  },
  {
   "cell_type": "code",
   "execution_count": 12,
   "metadata": {},
   "outputs": [
    {
     "name": "stdout",
     "output_type": "stream",
     "text": [
      "d1 4.0\n",
      "d2 4.0001\n",
      "Slope:  0.9999999999976694\n"
     ]
    }
   ],
   "source": [
    "c += h\n",
    "\n",
    "d2 = a*b + c\n",
    "\n",
    "print('d1', d1)\n",
    "print('d2', d2)\n",
    "\n",
    "print('Slope: ', (d2 - d1)/h)"
   ]
  },
  {
   "cell_type": "markdown",
   "metadata": {},
   "source": [
    "Here, we add a slightly bit higher value to c\n",
    "\\\n",
    "\\\n",
    "For this derivative, a and b are not considered.\n",
    "\\\n",
    "The function or d2 becomes slightly bit higher because of c\n",
    "\\\n",
    "It becomes slightly bit higher by the exact amount that was added to c\n",
    "\\\n",
    "\\\n",
    "Therefore cancelling out and the value of the slope is hence 1"
   ]
  },
  {
   "cell_type": "markdown",
   "metadata": {},
   "source": [
    "**Therefore, this will be the derivative at which 'd' will increase, as we scale 'c'**"
   ]
  }
 ],
 "metadata": {
  "kernelspec": {
   "display_name": "venv",
   "language": "python",
   "name": "python3"
  },
  "language_info": {
   "codemirror_mode": {
    "name": "ipython",
    "version": 3
   },
   "file_extension": ".py",
   "mimetype": "text/x-python",
   "name": "python",
   "nbconvert_exporter": "python",
   "pygments_lexer": "ipython3",
   "version": "3.10.0"
  }
 },
 "nbformat": 4,
 "nbformat_minor": 2
}
